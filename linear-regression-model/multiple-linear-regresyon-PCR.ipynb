{
 "cells": [
  {
   "cell_type": "code",
   "execution_count": 19,
   "id": "779f9e5e-5944-42cf-a3c3-ca59aad49688",
   "metadata": {},
   "outputs": [
    {
     "data": {
      "text/html": [
       "<div>\n",
       "<style scoped>\n",
       "    .dataframe tbody tr th:only-of-type {\n",
       "        vertical-align: middle;\n",
       "    }\n",
       "\n",
       "    .dataframe tbody tr th {\n",
       "        vertical-align: top;\n",
       "    }\n",
       "\n",
       "    .dataframe thead th {\n",
       "        text-align: right;\n",
       "    }\n",
       "</style>\n",
       "<table border=\"1\" class=\"dataframe\">\n",
       "  <thead>\n",
       "    <tr style=\"text-align: right;\">\n",
       "      <th></th>\n",
       "      <th>AtBat</th>\n",
       "      <th>Hits</th>\n",
       "      <th>HmRun</th>\n",
       "      <th>Runs</th>\n",
       "      <th>RBI</th>\n",
       "      <th>Walks</th>\n",
       "      <th>Years</th>\n",
       "      <th>CAtBat</th>\n",
       "      <th>CHits</th>\n",
       "      <th>CHmRun</th>\n",
       "      <th>CRuns</th>\n",
       "      <th>CRBI</th>\n",
       "      <th>CWalks</th>\n",
       "      <th>League</th>\n",
       "      <th>Division</th>\n",
       "      <th>PutOuts</th>\n",
       "      <th>Assists</th>\n",
       "      <th>Errors</th>\n",
       "      <th>Salary</th>\n",
       "      <th>NewLeague</th>\n",
       "    </tr>\n",
       "  </thead>\n",
       "  <tbody>\n",
       "    <tr>\n",
       "      <th>1</th>\n",
       "      <td>315</td>\n",
       "      <td>81</td>\n",
       "      <td>7</td>\n",
       "      <td>24</td>\n",
       "      <td>38</td>\n",
       "      <td>39</td>\n",
       "      <td>14</td>\n",
       "      <td>3449</td>\n",
       "      <td>835</td>\n",
       "      <td>69</td>\n",
       "      <td>321</td>\n",
       "      <td>414</td>\n",
       "      <td>375</td>\n",
       "      <td>N</td>\n",
       "      <td>W</td>\n",
       "      <td>632</td>\n",
       "      <td>43</td>\n",
       "      <td>10</td>\n",
       "      <td>475.0</td>\n",
       "      <td>N</td>\n",
       "    </tr>\n",
       "    <tr>\n",
       "      <th>2</th>\n",
       "      <td>479</td>\n",
       "      <td>130</td>\n",
       "      <td>18</td>\n",
       "      <td>66</td>\n",
       "      <td>72</td>\n",
       "      <td>76</td>\n",
       "      <td>3</td>\n",
       "      <td>1624</td>\n",
       "      <td>457</td>\n",
       "      <td>63</td>\n",
       "      <td>224</td>\n",
       "      <td>266</td>\n",
       "      <td>263</td>\n",
       "      <td>A</td>\n",
       "      <td>W</td>\n",
       "      <td>880</td>\n",
       "      <td>82</td>\n",
       "      <td>14</td>\n",
       "      <td>480.0</td>\n",
       "      <td>A</td>\n",
       "    </tr>\n",
       "    <tr>\n",
       "      <th>3</th>\n",
       "      <td>496</td>\n",
       "      <td>141</td>\n",
       "      <td>20</td>\n",
       "      <td>65</td>\n",
       "      <td>78</td>\n",
       "      <td>37</td>\n",
       "      <td>11</td>\n",
       "      <td>5628</td>\n",
       "      <td>1575</td>\n",
       "      <td>225</td>\n",
       "      <td>828</td>\n",
       "      <td>838</td>\n",
       "      <td>354</td>\n",
       "      <td>N</td>\n",
       "      <td>E</td>\n",
       "      <td>200</td>\n",
       "      <td>11</td>\n",
       "      <td>3</td>\n",
       "      <td>500.0</td>\n",
       "      <td>N</td>\n",
       "    </tr>\n",
       "    <tr>\n",
       "      <th>4</th>\n",
       "      <td>321</td>\n",
       "      <td>87</td>\n",
       "      <td>10</td>\n",
       "      <td>39</td>\n",
       "      <td>42</td>\n",
       "      <td>30</td>\n",
       "      <td>2</td>\n",
       "      <td>396</td>\n",
       "      <td>101</td>\n",
       "      <td>12</td>\n",
       "      <td>48</td>\n",
       "      <td>46</td>\n",
       "      <td>33</td>\n",
       "      <td>N</td>\n",
       "      <td>E</td>\n",
       "      <td>805</td>\n",
       "      <td>40</td>\n",
       "      <td>4</td>\n",
       "      <td>91.5</td>\n",
       "      <td>N</td>\n",
       "    </tr>\n",
       "    <tr>\n",
       "      <th>5</th>\n",
       "      <td>594</td>\n",
       "      <td>169</td>\n",
       "      <td>4</td>\n",
       "      <td>74</td>\n",
       "      <td>51</td>\n",
       "      <td>35</td>\n",
       "      <td>11</td>\n",
       "      <td>4408</td>\n",
       "      <td>1133</td>\n",
       "      <td>19</td>\n",
       "      <td>501</td>\n",
       "      <td>336</td>\n",
       "      <td>194</td>\n",
       "      <td>A</td>\n",
       "      <td>W</td>\n",
       "      <td>282</td>\n",
       "      <td>421</td>\n",
       "      <td>25</td>\n",
       "      <td>750.0</td>\n",
       "      <td>A</td>\n",
       "    </tr>\n",
       "  </tbody>\n",
       "</table>\n",
       "</div>"
      ],
      "text/plain": [
       "   AtBat  Hits  HmRun  Runs  RBI  Walks  Years  CAtBat  CHits  CHmRun  CRuns  \\\n",
       "1    315    81      7    24   38     39     14    3449    835      69    321   \n",
       "2    479   130     18    66   72     76      3    1624    457      63    224   \n",
       "3    496   141     20    65   78     37     11    5628   1575     225    828   \n",
       "4    321    87     10    39   42     30      2     396    101      12     48   \n",
       "5    594   169      4    74   51     35     11    4408   1133      19    501   \n",
       "\n",
       "   CRBI  CWalks League Division  PutOuts  Assists  Errors  Salary NewLeague  \n",
       "1   414     375      N        W      632       43      10   475.0         N  \n",
       "2   266     263      A        W      880       82      14   480.0         A  \n",
       "3   838     354      N        E      200       11       3   500.0         N  \n",
       "4    46      33      N        E      805       40       4    91.5         N  \n",
       "5   336     194      A        W      282      421      25   750.0         A  "
      ]
     },
     "execution_count": 19,
     "metadata": {},
     "output_type": "execute_result"
    }
   ],
   "source": [
    "##PCR İLE PCA-MODEL KURMA-TAHMİN-MODEL DOĞRULAMA(TUNİNG)\n",
    "from warnings import filterwarnings\n",
    "filterwarnings('ignore')\n",
    "import pandas as pd\n",
    "import numpy as np\n",
    "from sklearn.model_selection import train_test_split, cross_val_score, cross_val_predict\n",
    "hit = pd.read_csv(\"Hitters.csv\")\n",
    "df = hit.copy()\n",
    "df = df.dropna()\n",
    "df.head()\n",
    "#df.describe().T"
   ]
  },
  {
   "cell_type": "code",
   "execution_count": 20,
   "id": "37fd4d62-994b-42df-8ed2-30343185a95b",
   "metadata": {},
   "outputs": [
    {
     "data": {
      "text/html": [
       "<div>\n",
       "<style scoped>\n",
       "    .dataframe tbody tr th:only-of-type {\n",
       "        vertical-align: middle;\n",
       "    }\n",
       "\n",
       "    .dataframe tbody tr th {\n",
       "        vertical-align: top;\n",
       "    }\n",
       "\n",
       "    .dataframe thead th {\n",
       "        text-align: right;\n",
       "    }\n",
       "</style>\n",
       "<table border=\"1\" class=\"dataframe\">\n",
       "  <thead>\n",
       "    <tr style=\"text-align: right;\">\n",
       "      <th></th>\n",
       "      <th>League_A</th>\n",
       "      <th>League_N</th>\n",
       "      <th>Division_E</th>\n",
       "      <th>Division_W</th>\n",
       "      <th>NewLeague_A</th>\n",
       "      <th>NewLeague_N</th>\n",
       "    </tr>\n",
       "  </thead>\n",
       "  <tbody>\n",
       "    <tr>\n",
       "      <th>1</th>\n",
       "      <td>False</td>\n",
       "      <td>True</td>\n",
       "      <td>False</td>\n",
       "      <td>True</td>\n",
       "      <td>False</td>\n",
       "      <td>True</td>\n",
       "    </tr>\n",
       "    <tr>\n",
       "      <th>2</th>\n",
       "      <td>True</td>\n",
       "      <td>False</td>\n",
       "      <td>False</td>\n",
       "      <td>True</td>\n",
       "      <td>True</td>\n",
       "      <td>False</td>\n",
       "    </tr>\n",
       "    <tr>\n",
       "      <th>3</th>\n",
       "      <td>False</td>\n",
       "      <td>True</td>\n",
       "      <td>True</td>\n",
       "      <td>False</td>\n",
       "      <td>False</td>\n",
       "      <td>True</td>\n",
       "    </tr>\n",
       "    <tr>\n",
       "      <th>4</th>\n",
       "      <td>False</td>\n",
       "      <td>True</td>\n",
       "      <td>True</td>\n",
       "      <td>False</td>\n",
       "      <td>False</td>\n",
       "      <td>True</td>\n",
       "    </tr>\n",
       "    <tr>\n",
       "      <th>5</th>\n",
       "      <td>True</td>\n",
       "      <td>False</td>\n",
       "      <td>False</td>\n",
       "      <td>True</td>\n",
       "      <td>True</td>\n",
       "      <td>False</td>\n",
       "    </tr>\n",
       "  </tbody>\n",
       "</table>\n",
       "</div>"
      ],
      "text/plain": [
       "   League_A  League_N  Division_E  Division_W  NewLeague_A  NewLeague_N\n",
       "1     False      True       False        True        False         True\n",
       "2      True     False       False        True         True        False\n",
       "3     False      True        True       False        False         True\n",
       "4     False      True        True       False        False         True\n",
       "5      True     False       False        True         True        False"
      ]
     },
     "execution_count": 20,
     "metadata": {},
     "output_type": "execute_result"
    }
   ],
   "source": [
    "dms = pd.get_dummies(df[['League', 'Division', 'NewLeague']])\n",
    "dms.head()"
   ]
  },
  {
   "cell_type": "code",
   "execution_count": 21,
   "id": "4616a863-d599-4dcb-bc66-28f8b4fdd558",
   "metadata": {},
   "outputs": [],
   "source": [
    "y = df[\"Salary\"]\n",
    "X_ = df.drop([\"Salary\",\"League\",\"Division\",\"NewLeague\"], axis = 1).astype(\"float64\") \n",
    "## axis=1 dropun sütünlar için uygulanacağını gösterir\n",
    "## salaryı bağımlı değişken diye çıkardım\n",
    "## diğer katagorileride çıkardım çünkü onlar ilk haliydi ben onları dummies ile katagorikleştirdim\n",
    "X = pd.concat([X_, dms[[\"League_N\", \"Division_W\",\"NewLeague_N\"]]], axis = 1)"
   ]
  },
  {
   "cell_type": "code",
   "execution_count": 22,
   "id": "31c66109-2257-47b3-9f1a-45d57aec4d71",
   "metadata": {},
   "outputs": [
    {
     "name": "stdout",
     "output_type": "stream",
     "text": [
      "X_train (197, 19)\n",
      "y_train (197,)\n",
      "X_test (66, 19)\n",
      "y_test (66,)\n",
      "training (263, 20)\n"
     ]
    }
   ],
   "source": [
    "X_train, X_test, y_train, y_test = train_test_split(X,y,test_size=0.25, random_state=42)\n",
    "\n",
    "print(\"X_train\", X_train.shape)\n",
    "print(\"y_train\",y_train.shape)\n",
    "print(\"X_test\",X_test.shape)\n",
    "print(\"y_test\",y_test.shape)\n",
    "training = df.copy()\n",
    "print(\"training\", training.shape)"
   ]
  },
  {
   "cell_type": "code",
   "execution_count": 23,
   "id": "01611f59-189c-4bc2-9d3e-1b641eab0141",
   "metadata": {},
   "outputs": [],
   "source": [
    "## ilk pca yapıcaz sonra model kurcaz\n",
    "from sklearn.decomposition import PCA\n",
    "from sklearn.preprocessing import scale "
   ]
  },
  {
   "cell_type": "code",
   "execution_count": 24,
   "id": "6fa106b7-0971-43ee-b759-09b2c2cc0d11",
   "metadata": {},
   "outputs": [],
   "source": [
    "pca = PCA()##argüman girmezsen değişken sayısı kadar bileşen olusur\n",
    "X_reduced_train = pca.fit_transform(scale(X_train)) ##pca ile indirgedik\n",
    "#X_reduced_train[0:1,:]"
   ]
  },
  {
   "cell_type": "code",
   "execution_count": 25,
   "id": "9947b9ad-6d66-496b-8f4f-387e11e8a8ec",
   "metadata": {},
   "outputs": [
    {
     "data": {
      "text/plain": [
       "\"\\npca.explained_variance_ratio_:her bir ana bileşenin veri setindeki toplam varyansın ne kadarını açıkladığını ifade eder.\\nBu değer, her bir ana bileşen için bir oran (yüzde değil, oran) olarak gelir.\\nÖrneğin, explained_variance_ratio_ dizisi [0.5, 0.3, 0.1, 0.05, 0.05] gibi olabilir,\\nbu da ilk bileşenin varyansın %50'sini, ikinci bileşenin %30'unu vb. açıkladığı anlamına gelir.\\n\\nnp.round(..., decimals = 4):\\nnp.round, bu oranları decimals=4 parametresiyle virgülden sonra dört basamak olacak şekilde yuvarlar.\\n\\nnp.cumsum(...): np.cumsum, verilen dizi üzerinde kümülatif toplam (cumulative sum) alır.\\nBu, her adımda önceki bileşenlerin açıklanan varyans oranlarını toplar. Örneğin, [50, 30, 10] gibi bir dizi için kümülatif toplam [50, 80, 90] olur.\\nBu adım, her bir bileşen eklendikçe ne kadar toplam varyansın açıklandığını gösterir.\\nyani ilk bileşenin açıkladıpı varyans 38iken ikinci bileşenin birinci bileşen ile açıkladığı varyans 60 olmuş\\n\""
      ]
     },
     "execution_count": 25,
     "metadata": {},
     "output_type": "execute_result"
    }
   ],
   "source": [
    "np.cumsum(np.round(pca.explained_variance_ratio_, decimals = 4)*100)[0:5]\n",
    "\"\"\"\n",
    "pca.explained_variance_ratio_:her bir ana bileşenin veri setindeki toplam varyansın ne kadarını açıkladığını ifade eder.\n",
    "Bu değer, her bir ana bileşen için bir oran (yüzde değil, oran) olarak gelir.\n",
    "Örneğin, explained_variance_ratio_ dizisi [0.5, 0.3, 0.1, 0.05, 0.05] gibi olabilir,\n",
    "bu da ilk bileşenin varyansın %50'sini, ikinci bileşenin %30'unu vb. açıkladığı anlamına gelir.\n",
    "\n",
    "np.round(..., decimals = 4):\n",
    "np.round, bu oranları decimals=4 parametresiyle virgülden sonra dört basamak olacak şekilde yuvarlar.\n",
    "\n",
    "np.cumsum(...): np.cumsum, verilen dizi üzerinde kümülatif toplam (cumulative sum) alır.\n",
    "Bu, her adımda önceki bileşenlerin açıklanan varyans oranlarını toplar. Örneğin, [50, 30, 10] gibi bir dizi için kümülatif toplam [50, 80, 90] olur.\n",
    "Bu adım, her bir bileşen eklendikçe ne kadar toplam varyansın açıklandığını gösterir.\n",
    "yani ilk bileşenin açıkladıpı varyans 38iken ikinci bileşenin birinci bileşen ile açıkladığı varyans 60 olmuş\n",
    "\"\"\""
   ]
  },
  {
   "cell_type": "code",
   "execution_count": 26,
   "id": "582f71e1-dbd8-47ae-8036-c51404144adf",
   "metadata": {},
   "outputs": [],
   "source": [
    "#pca yaptık model kurucaz\n",
    "from sklearn.linear_model import LinearRegression\n",
    "lm = LinearRegression()"
   ]
  },
  {
   "cell_type": "code",
   "execution_count": 27,
   "id": "f28265d4-a424-43d7-aba5-fe23c55d0a90",
   "metadata": {},
   "outputs": [],
   "source": [
    "pcr_model = lm.fit(X_reduced_train, y_train)"
   ]
  },
  {
   "cell_type": "code",
   "execution_count": 28,
   "id": "abb190d1-57f8-4128-8c1d-8e48170a53bb",
   "metadata": {},
   "outputs": [
    {
     "data": {
      "text/plain": [
       "array([ 111.13977427,  -29.34209502,   26.29799759,  -38.47549852,\n",
       "        -56.9200785 ,   54.44779423,   40.77493384,  -23.72746012,\n",
       "          9.31198164,   13.02031672,   45.58357748,   31.97791627,\n",
       "         18.93930958, -115.60940171,   24.00382778,  415.70806202,\n",
       "       -449.51779543,  563.07375399,  302.53718462])"
      ]
     },
     "execution_count": 28,
     "metadata": {},
     "output_type": "execute_result"
    }
   ],
   "source": [
    "pcr_model.intercept_\n",
    "pcr_model.coef_"
   ]
  },
  {
   "cell_type": "code",
   "execution_count": 29,
   "id": "1d575530-5074-4c62-b637-88b0b3d32ab4",
   "metadata": {},
   "outputs": [],
   "source": [
    "## TAHMİN"
   ]
  },
  {
   "cell_type": "code",
   "execution_count": 33,
   "id": "9c212a5b-83e7-4314-b093-a6571dee57a3",
   "metadata": {},
   "outputs": [
    {
     "data": {
      "text/plain": [
       "array([377.44484744, 802.19452124, 495.60987745, 112.53177731,\n",
       "       426.21613066])"
      ]
     },
     "execution_count": 33,
     "metadata": {},
     "output_type": "execute_result"
    }
   ],
   "source": [
    "y_pred1 = pcr_model.predict(X_reduced_train)\n",
    "y_pred1[0:5]"
   ]
  },
  {
   "cell_type": "code",
   "execution_count": 34,
   "id": "5d31c982-4b68-4c92-bd73-11c0e5014071",
   "metadata": {},
   "outputs": [],
   "source": [
    "from sklearn.metrics import mean_squared_error\n",
    "from sklearn.metrics import r2_score"
   ]
  },
  {
   "cell_type": "code",
   "execution_count": 38,
   "id": "8d37087e-4e5b-49e1-b924-c82394767f80",
   "metadata": {},
   "outputs": [
    {
     "data": {
      "text/plain": [
       "0.5770075250410179"
      ]
     },
     "execution_count": 38,
     "metadata": {},
     "output_type": "execute_result"
    }
   ],
   "source": [
    "#train hataları\n",
    "np.sqrt(mean_squared_error(y_train, y_pred1))\n",
    "r2_score(y_train, y_pred1)"
   ]
  },
  {
   "cell_type": "code",
   "execution_count": 39,
   "id": "6a3511db-38b1-4fa4-a3bd-012ed0ba66dc",
   "metadata": {},
   "outputs": [],
   "source": [
    "pca2 = PCA()  ##birde test için yapıcam"
   ]
  },
  {
   "cell_type": "code",
   "execution_count": 40,
   "id": "275010ad-c5d6-4ab3-8d3a-9a9b851b5ddd",
   "metadata": {},
   "outputs": [
    {
     "data": {
      "text/plain": [
       "405.15753641499634"
      ]
     },
     "execution_count": 40,
     "metadata": {},
     "output_type": "execute_result"
    }
   ],
   "source": [
    "X_reduced_test = pca2.fit_transform(scale(X_test))\n",
    "y_pred2 = pcr_model.predict(X_reduced_test)\n",
    "np.sqrt(mean_squared_error(y_test, y_pred2))\n",
    "#(y_test, y_pred2)"
   ]
  },
  {
   "cell_type": "code",
   "execution_count": 41,
   "id": "a4a3a572-7b47-4f0d-8386-f9a5923079da",
   "metadata": {},
   "outputs": [],
   "source": [
    "##pcr model tuning"
   ]
  },
  {
   "cell_type": "code",
   "execution_count": 42,
   "id": "c300f29e-854f-43ab-9209-0d0358052f66",
   "metadata": {},
   "outputs": [
    {
     "name": "stdout",
     "output_type": "stream",
     "text": [
      "390.7914255682224\n"
     ]
    }
   ],
   "source": [
    "lm = LinearRegression()\n",
    "pcr_model = lm.fit(X_reduced_train[:,0:10], y_train)\n",
    "y_pred = pcr_model.predict(X_reduced_test[:,0:10])\n",
    "print(np.sqrt(mean_squared_error(y_test, y_pred)))\n",
    "##bir bileşen değil de birden fazla bileşenle test ettik"
   ]
  },
  {
   "cell_type": "code",
   "execution_count": 43,
   "id": "3eb9f5d5-b9e7-4a29-b277-cf72bf5ed444",
   "metadata": {},
   "outputs": [],
   "source": [
    "from sklearn import model_selection"
   ]
  },
  {
   "cell_type": "code",
   "execution_count": 55,
   "id": "e4441001-1059-4db7-a429-b964b8103f69",
   "metadata": {},
   "outputs": [
    {
     "data": {
      "text/plain": [
       "\"\\nVeri setini K sayıda alt kümeye böler.\\nModel her defasında farklı bir alt kümeyi test verisi olarak kullanır ve kalan K-1 kümeyi modelin eğitimi için kullanır. \\nBu işlem K kez tekrar edilir ve her bir adımda modelin performansı hesaplanır.\\nSonuç olarak, modelin genel performansını değerlendirmek için bu K sayıda sonuç ortalanır.\\nn_splits = 10: Veri setini kaç parçaya böleceğinizi belirtir. Burada, veri seti 10 eşit parçaya (fold'a) bölünecektir\\nshuffle = True: Bu parametre, veri setinin bölünmeden önce karıştırılmasını sağlar. \\nBu, özellikle veri setinin sıralı olduğu durumlarda önemlidir, çünkü sıralı verilerde belirli desenler olabilir\\nve bu da modelin performansını olumsuz etkileyebilir.\\nrandom_state = 1: Karıştırma işleminin her seferinde aynı sonuçları üretmesini sağlamak için kullanılan bir sabit değerdir.\\nBu parametreyi belirlemek, modelin tekrarlanabilirliğini sağlar, yani farklı zamanlarda aynı kodu çalıştırdığınızda aynı sonuçları alırsınız.\\n\""
      ]
     },
     "execution_count": 55,
     "metadata": {},
     "output_type": "execute_result"
    }
   ],
   "source": [
    "## k fold cross validation yöntemi\n",
    "cv_10 = model_selection.KFold(n_splits = 10,\n",
    "                             shuffle = True,\n",
    "                             random_state = 1)\n",
    "\"\"\"\n",
    "Veri setini K sayıda alt kümeye böler.\n",
    "Model her defasında farklı bir alt kümeyi test verisi olarak kullanır ve kalan K-1 kümeyi modelin eğitimi için kullanır. \n",
    "Bu işlem K kez tekrar edilir ve her bir adımda modelin performansı hesaplanır.\n",
    "Sonuç olarak, modelin genel performansını değerlendirmek için bu K sayıda sonuç ortalanır.\n",
    "n_splits = 10: Veri setini kaç parçaya böleceğinizi belirtir. Burada, veri seti 10 eşit parçaya (fold'a) bölünecektir\n",
    "shuffle = True: Bu parametre, veri setinin bölünmeden önce karıştırılmasını sağlar. \n",
    "Bu, özellikle veri setinin sıralı olduğu durumlarda önemlidir, çünkü sıralı verilerde belirli desenler olabilir\n",
    "ve bu da modelin performansını olumsuz etkileyebilir.\n",
    "random_state = 1: Karıştırma işleminin her seferinde aynı sonuçları üretmesini sağlamak için kullanılan bir sabit değerdir.\n",
    "Bu parametreyi belirlemek, modelin tekrarlanabilirliğini sağlar, yani farklı zamanlarda aynı kodu çalıştırdığınızda aynı sonuçları alırsınız.\n",
    "\"\"\""
   ]
  },
  {
   "cell_type": "code",
   "execution_count": 45,
   "id": "94f31bb3-fa57-4bcb-8077-7d1673009bba",
   "metadata": {},
   "outputs": [],
   "source": [
    "lm = LinearRegression()\n",
    "RMSE = []"
   ]
  },
  {
   "cell_type": "code",
   "execution_count": 46,
   "id": "93b6109b-7942-477b-a6fb-602ae6ac6e4c",
   "metadata": {},
   "outputs": [],
   "source": [
    "for i in np.arange(1, X_reduced_train.shape[1] + 1):\n",
    "    \n",
    "    score = np.sqrt(-1*model_selection.cross_val_score(lm, \n",
    "                                                       X_reduced_train[:,:i], \n",
    "                                                       y_train.ravel(), \n",
    "                                                       cv=cv_10, \n",
    "                                                       scoring='neg_mean_squared_error').mean())\n",
    "    RMSE.append(score)\n",
    "## her bir bileşen sayısı için model kurup, her bileşesen sayısı için k fold cross yapıp hataları hesaplıyor \n",
    "##sonra hangi bileşen için daha az hata alırız onu bulmuş oluruz\n",
    "\"\"\"\n",
    "y_train.ravel(): y_train etiketlerinin (label) düzleştirilmiş bir kopyasını alır.\n",
    "Bu, hedef değişkenin (dependent variable) boyutunun uygun hale getirilmesi içindir.\n",
    "Kodun X_reduced_train ve y_train üzerinde çalışmasının sebebi,\n",
    "modelin X_reduced_train veri setindeki özellikler (features) ile y_train etiketleri (labels) arasında nasıl bir ilişki kurduğunu ölçmek ve değerlendirmektir. Şimdi, neden bu veri setlerinin kullanıldığına ve kodun amacına daha ayrıntılı bakalım:\n",
    "2. y_train:\n",
    "y_train, bağımlı değişkenleri veya hedef değişkenleri (target variables) temsil eder. Bu, modelin tahmin etmeye çalıştığı çıktıdır.\n",
    "y_train.ravel() ifadesi, y_train verisini bir boyutlu hale getirir. Bu, bazı modelleme fonksiyonlarının beklentilerine uygun bir format sağlar.\n",
    "\"\"\""
   ]
  },
  {
   "cell_type": "code",
   "execution_count": 49,
   "id": "8b8bea45-c96e-4257-869b-808da147a0a2",
   "metadata": {},
   "outputs": [
    {
     "data": {
      "image/png": "[encoded data removed]",
      "text/plain": [
       "<Figure size 640x480 with 1 Axes>"
      ]
     },
     "metadata": {},
     "output_type": "display_data"
    }
   ],
   "source": [
    "import matplotlib.pyplot as plt\n",
    "plt.plot(RMSE, '-v')\n",
    "plt.xlabel('Bileşen Sayısı')\n",
    "plt.ylabel('RMSE')\n",
    "plt.title('Maaş Tahmin Modeli İçin PCR Model Tuning');"
   ]
  },
  {
   "cell_type": "code",
   "execution_count": 50,
   "id": "76ac244f-1a9f-4ffc-8055-a0b73a48fd83",
   "metadata": {},
   "outputs": [],
   "source": [
    "lm = LinearRegression()"
   ]
  },
  {
   "cell_type": "code",
   "execution_count": 60,
   "id": "c81601c6-834a-475f-9008-6250195eb451",
   "metadata": {},
   "outputs": [],
   "source": [
    "pcr_model = lm.fit(X_reduced_train[:,0:6], y_train)"
   ]
  },
  {
   "cell_type": "code",
   "execution_count": 57,
   "id": "fe15f531-163e-4137-bca6-491fb7ea5842",
   "metadata": {},
   "outputs": [
    {
     "name": "stdout",
     "output_type": "stream",
     "text": [
      "308.82659830945005\n"
     ]
    }
   ],
   "source": [
    "##train için baktım\n",
    "y_pred = pcr_model.predict(X_reduced_train[:,0:6])\n",
    "print(np.sqrt(mean_squared_error(y_train, y_pred)))"
   ]
  },
  {
   "cell_type": "code",
   "execution_count": 61,
   "id": "58ed6d87-70b4-48c0-8440-a9f19b8e6f91",
   "metadata": {},
   "outputs": [
    {
     "name": "stdout",
     "output_type": "stream",
     "text": [
      "393.1198700096223\n"
     ]
    }
   ],
   "source": [
    "##test için baktım\n",
    "y_pred = pcr_model.predict(X_reduced_test[:,0:6])\n",
    "print(np.sqrt(mean_squared_error(y_test, y_pred)))"
   ]
  },
  {
   "cell_type": "code",
   "execution_count": null,
   "id": "4ca79a9a-c294-4cbd-82aa-f9bb742b7811",
   "metadata": {},
   "outputs": [],
   "source": [
    "## beklenti tune edildikten sonrakı test hatası ile edildikten önceki test hatasından daha küçük çıkmalı"
   ]
  },
  {
   "cell_type": "code",
   "execution_count": null,
   "id": "900f5b41-29b2-42b7-99db-e23337a5b973",
   "metadata": {},
   "outputs": [],
   "source": []
  }
 ],
 "metadata": {
  "kernelspec": {
   "display_name": "Python 3 (ipykernel)",
   "language": "python",
   "name": "python3"
  },
  "language_info": {
   "codemirror_mode": {
    "name": "ipython",
    "version": 3
   },
   "file_extension": ".py",
   "mimetype": "text/x-python",
   "name": "python",
   "nbconvert_exporter": "python",
   "pygments_lexer": "ipython3",
   "version": "3.12.4"
  }
 },
 "nbformat": 4,
 "nbformat_minor": 5
}
