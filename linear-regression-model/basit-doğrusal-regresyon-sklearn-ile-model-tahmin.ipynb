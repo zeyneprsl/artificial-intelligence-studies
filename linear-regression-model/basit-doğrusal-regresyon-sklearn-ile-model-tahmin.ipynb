{
 "cells": [
  {
   "cell_type": "code",
   "execution_count": 36,
   "id": "33845c26-0d43-4a7e-8a4a-c1a071601e17",
   "metadata": {},
   "outputs": [],
   "source": [
    "from sklearn.linear_model import LinearRegression\n",
    "import pandas as pd\n",
    "import seaborn as sns\n",
    "import matplotlib.pyplot as plt\n",
    "from warnings import filterwarnings\n",
    "filterwarnings('ignore')"
   ]
  },
  {
   "cell_type": "code",
   "execution_count": 38,
   "id": "d9b65013-f250-447f-80a7-fc358abea77f",
   "metadata": {},
   "outputs": [],
   "source": [
    "df = pd.read_csv(\"Advertising.csv\", usecols = [1,2,3,4]) ## burda usecols yapmmasaydım yukarıdaki ilocu kullanıcaktım\n",
    "X = df[[\"TV\"]]\n",
    "y = df[\"sales\"]\n",
    "reg = LinearRegression()\n",
    "model = reg.fit(X, y)\n"
   ]
  },
  {
   "cell_type": "code",
   "execution_count": 40,
   "id": "2dbea3c6-7207-426e-af78-7f696c3cc360",
   "metadata": {},
   "outputs": [
    {
     "data": {
      "text/plain": [
       "7.032593549127693"
      ]
     },
     "execution_count": 40,
     "metadata": {},
     "output_type": "execute_result"
    }
   ],
   "source": [
    "model.intercept_#sabit terimi ifade eder"
   ]
  },
  {
   "cell_type": "code",
   "execution_count": 42,
   "id": "9976618f-c758-4e90-af2b-0c56752271f9",
   "metadata": {},
   "outputs": [
    {
     "data": {
      "text/plain": [
       "array([0.04753664])"
      ]
     },
     "execution_count": 42,
     "metadata": {},
     "output_type": "execute_result"
    }
   ],
   "source": [
    "model.coef_## kat sayıyı ,ifade eder # ax+b   burdaki coef=a"
   ]
  },
  {
   "cell_type": "code",
   "execution_count": 44,
   "id": "1b22a25c-35bf-4544-868f-5b8ed2c08b60",
   "metadata": {},
   "outputs": [
    {
     "data": {
      "text/plain": [
       "0.611875050850071"
      ]
     },
     "execution_count": 44,
     "metadata": {},
     "output_type": "execute_result"
    }
   ],
   "source": [
    "model.score(X,y) \n",
    "#Bu, modelinizin X ve y üzerinde ne kadar iyi çalıştığını gösteren R-kare skorunu dönecektir. #\n",
    "#Örneğin, eğer model.score(X, y) sonucu 0.75 ise, bu modelin, satışlardaki (y) varyansın %75'ini TV harcamaları (X) kullanarak açıkladığını gösterir."
   ]
  },
  {
   "cell_type": "code",
   "execution_count": 46,
   "id": "4b521f36-182e-4a4e-bc55-754b44a6298b",
   "metadata": {},
   "outputs": [
    {
     "data": {
      "text/plain": [
       "array([17.97077451,  9.14797405,  7.85022376, 14.23439457, 15.62721814,\n",
       "        7.44616232,  9.76595037, 12.74649773,  7.44140866, 16.53041431])"
      ]
     },
     "execution_count": 46,
     "metadata": {},
     "output_type": "execute_result"
    }
   ],
   "source": [
    "model.predict(X)[0:10]"
   ]
  },
  {
   "cell_type": "code",
   "execution_count": 54,
   "id": "f30ead1a-cd60-4cac-af78-3598d6b82fa5",
   "metadata": {},
   "outputs": [],
   "source": [
    "#Model denklemi:\n",
    "#Sales = 7.03 + TV*0.04\n",
    "#Örneğin 30 birim TV harcaması olduğunda satışların tahmini değeri ne olur?\n",
    "#yani 7.03 + 30*0.04 bunu soruyor"
   ]
  },
  {
   "cell_type": "code",
   "execution_count": 56,
   "id": "159ea53d-7471-40af-b3d6-10db4b3fca16",
   "metadata": {},
   "outputs": [
    {
     "data": {
      "text/plain": [
       "array([8.45869276])"
      ]
     },
     "execution_count": 56,
     "metadata": {},
     "output_type": "execute_result"
    }
   ],
   "source": [
    "model.predict([[30]])"
   ]
  },
  {
   "cell_type": "code",
   "execution_count": 58,
   "id": "8543bcbc-fb00-415d-97c0-4686080ae51e",
   "metadata": {},
   "outputs": [
    {
     "data": {
      "text/plain": [
       "array([ 7.27027675, 11.31089119, 16.53992164])"
      ]
     },
     "execution_count": 58,
     "metadata": {},
     "output_type": "execute_result"
    }
   ],
   "source": [
    "yeni_veri = [[5],[90],[200]]\n",
    "model.predict(yeni_veri)"
   ]
  },
  {
   "cell_type": "code",
   "execution_count": null,
   "id": "43c98c90-a424-499e-aba2-e4887a05bd1f",
   "metadata": {},
   "outputs": [],
   "source": []
  }
 ],
 "metadata": {
  "kernelspec": {
   "display_name": "Python 3 (ipykernel)",
   "language": "python",
   "name": "python3"
  },
  "language_info": {
   "codemirror_mode": {
    "name": "ipython",
    "version": 3
   },
   "file_extension": ".py",
   "mimetype": "text/x-python",
   "name": "python",
   "nbconvert_exporter": "python",
   "pygments_lexer": "ipython3",
   "version": "3.12.4"
  }
 },
 "nbformat": 4,
 "nbformat_minor": 5
}
