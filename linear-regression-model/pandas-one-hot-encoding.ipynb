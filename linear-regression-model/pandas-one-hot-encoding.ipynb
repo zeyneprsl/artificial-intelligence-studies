{
 "cells": [
  {
   "cell_type": "code",
   "execution_count": null,
   "id": "1e1aac3a-6c45-476b-a207-40d00f978d92",
   "metadata": {},
   "outputs": [],
   "source": [
    "#get_dummies,\n",
    "#kategorik bir değişkenin her bir benzersiz kategorisi için ayrı bir sütun oluşturur ve\n",
    "#her satır için o kategoride olup olmadığına bağlı olarak 1 veya 0 değeri verir. Bu işleme one-hot encoding adı verilir.\n",
    "\n",
    "import pandas as pd\n",
    "data = {'Country': ['Turkey', 'USA', 'Germany', 'Turkey', 'Germany']}\n",
    "df = pd.DataFrame(data)\n",
    "'''\n",
    "   Country\n",
    "0   Turkey\n",
    "1      USA\n",
    "2  Germany\n",
    "3   Turkey\n",
    "4  Germany\n",
    "get_dummies fonksiyonunu kullanarak \"Country\" sütununu one-hot encode edelim:\n",
    "'''\n",
    "df_encoded = pd.get_dummies(df, columns=['Country'])\n",
    "\n",
    "'''\n",
    "   Country_Germany  Country_Turkey  Country_USA\n",
    "0               0               1            0\n",
    "1               0               0            1\n",
    "2               1               0            0\n",
    "3               0               1            0\n",
    "4               1               0            0\n",
    "'''\n",
    "#Her bir kategori için bir sütun oluşturulur: Country_Germany, Country_Turkey, ve Country_USA sütunları.\n",
    "#Sütunlardaki değerler 0 veya 1 olur:\n",
    "#Bu, o satırın belirli bir kategoriye ait olup olmadığını belirtir.\n",
    "#Örneğin, Country_Germany sütunu, bir satırda ülke \"Germany\" ise 1, değilse 0 olur.\n",
    "#One-hot encoding, kategorik verileri sayısal hale getirir,böylece makine öğrenmesi modelleriyle kullanılabilir."
   ]
  }
 ],
 "metadata": {
  "kernelspec": {
   "display_name": "Python 3 (ipykernel)",
   "language": "python",
   "name": "python3"
  },
  "language_info": {
   "codemirror_mode": {
    "name": "ipython",
    "version": 3
   },
   "file_extension": ".py",
   "mimetype": "text/x-python",
   "name": "python",
   "nbconvert_exporter": "python",
   "pygments_lexer": "ipython3",
   "version": "3.12.4"
  }
 },
 "nbformat": 4,
 "nbformat_minor": 5
}
