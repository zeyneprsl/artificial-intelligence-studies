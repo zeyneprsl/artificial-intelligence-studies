{
 "cells": [
  {
   "cell_type": "code",
   "execution_count": 1,
   "id": "7d9c84e2-3ca6-4d2c-b244-0242e0ac79bf",
   "metadata": {},
   "outputs": [
    {
     "data": {
      "text/html": [
       "<div>\n",
       "<style scoped>\n",
       "    .dataframe tbody tr th:only-of-type {\n",
       "        vertical-align: middle;\n",
       "    }\n",
       "\n",
       "    .dataframe tbody tr th {\n",
       "        vertical-align: top;\n",
       "    }\n",
       "\n",
       "    .dataframe thead th {\n",
       "        text-align: right;\n",
       "    }\n",
       "</style>\n",
       "<table border=\"1\" class=\"dataframe\">\n",
       "  <thead>\n",
       "    <tr style=\"text-align: right;\">\n",
       "      <th></th>\n",
       "      <th>TV</th>\n",
       "      <th>radio</th>\n",
       "      <th>newspaper</th>\n",
       "      <th>sales</th>\n",
       "    </tr>\n",
       "  </thead>\n",
       "  <tbody>\n",
       "    <tr>\n",
       "      <th>0</th>\n",
       "      <td>230.1</td>\n",
       "      <td>37.8</td>\n",
       "      <td>69.2</td>\n",
       "      <td>22.1</td>\n",
       "    </tr>\n",
       "    <tr>\n",
       "      <th>1</th>\n",
       "      <td>44.5</td>\n",
       "      <td>39.3</td>\n",
       "      <td>45.1</td>\n",
       "      <td>10.4</td>\n",
       "    </tr>\n",
       "    <tr>\n",
       "      <th>2</th>\n",
       "      <td>17.2</td>\n",
       "      <td>45.9</td>\n",
       "      <td>69.3</td>\n",
       "      <td>9.3</td>\n",
       "    </tr>\n",
       "    <tr>\n",
       "      <th>3</th>\n",
       "      <td>151.5</td>\n",
       "      <td>41.3</td>\n",
       "      <td>58.5</td>\n",
       "      <td>18.5</td>\n",
       "    </tr>\n",
       "    <tr>\n",
       "      <th>4</th>\n",
       "      <td>180.8</td>\n",
       "      <td>10.8</td>\n",
       "      <td>58.4</td>\n",
       "      <td>12.9</td>\n",
       "    </tr>\n",
       "  </tbody>\n",
       "</table>\n",
       "</div>"
      ],
      "text/plain": [
       "      TV  radio  newspaper  sales\n",
       "0  230.1   37.8       69.2   22.1\n",
       "1   44.5   39.3       45.1   10.4\n",
       "2   17.2   45.9       69.3    9.3\n",
       "3  151.5   41.3       58.5   18.5\n",
       "4  180.8   10.8       58.4   12.9"
      ]
     },
     "execution_count": 1,
     "metadata": {},
     "output_type": "execute_result"
    }
   ],
   "source": [
    "import pandas as pd\n",
    "ad = pd.read_csv(\"Advertising.csv\", usecols = [1,2,3,4])\n",
    "df = ad.copy()\n",
    "df.head()"
   ]
  },
  {
   "cell_type": "code",
   "execution_count": 3,
   "id": "afd67571-b87e-4439-ade7-0990403cb3bd",
   "metadata": {},
   "outputs": [],
   "source": [
    "from sklearn.model_selection import train_test_split, cross_val_score, cross_val_predict"
   ]
  },
  {
   "cell_type": "code",
   "execution_count": 24,
   "id": "ae567e16-4d7f-4680-8910-41864c2b7dfb",
   "metadata": {},
   "outputs": [],
   "source": [
    "X = df.drop(\"sales\", axis = 1) ## sales bağımlı değişken,bağımsız değişkenleri x'e attım\n",
    "y = df[\"sales\"]\n",
    "training = df.copy() ###veri setinin tamamınıı burda tutcam\n",
    "X_train, X_test, y_train, y_test = train_test_split(X, y, test_size = 0.20, random_state= 42)\n"
   ]
  },
  {
   "cell_type": "code",
   "execution_count": 26,
   "id": "e2b5d92d-2206-4018-b92c-74014eaf15bf",
   "metadata": {},
   "outputs": [
    {
     "data": {
      "text/plain": [
       "(200, 4)"
      ]
     },
     "execution_count": 26,
     "metadata": {},
     "output_type": "execute_result"
    }
   ],
   "source": [
    "training.shape"
   ]
  },
  {
   "cell_type": "code",
   "execution_count": 7,
   "id": "281b3e82-fa02-4a57-bd45-9b0f8e0a3009",
   "metadata": {},
   "outputs": [
    {
     "data": {
      "text/plain": [
       "(160, 3)"
      ]
     },
     "execution_count": 7,
     "metadata": {},
     "output_type": "execute_result"
    }
   ],
   "source": [
    "X_train.shape"
   ]
  },
  {
   "cell_type": "code",
   "execution_count": 9,
   "id": "36e9997f-3870-4a5b-9126-dc61ddfb0670",
   "metadata": {},
   "outputs": [
    {
     "data": {
      "text/plain": [
       "(40, 3)"
      ]
     },
     "execution_count": 9,
     "metadata": {},
     "output_type": "execute_result"
    }
   ],
   "source": [
    "X_test.shape"
   ]
  },
  {
   "cell_type": "code",
   "execution_count": 16,
   "id": "3a795d5a-aac0-4039-9fa8-2fbb4e85ad9a",
   "metadata": {},
   "outputs": [
    {
     "data": {
      "text/plain": [
       "(160,)"
      ]
     },
     "execution_count": 16,
     "metadata": {},
     "output_type": "execute_result"
    }
   ],
   "source": [
    "y_train.shape\n",
    "###(40, 3):40: Bu setin 40 örnekten (satır) oluştuğunu gösterir. 3: Bu setin her bir örneğinde 3 özellik (sütun) olduğunu gösterir."
   ]
  },
  {
   "cell_type": "code",
   "execution_count": 13,
   "id": "e171b893-e4cd-4c29-b6f6-196ccacd22bb",
   "metadata": {},
   "outputs": [
    {
     "data": {
      "text/plain": [
       "(40,)"
      ]
     },
     "execution_count": 13,
     "metadata": {},
     "output_type": "execute_result"
    }
   ],
   "source": [
    "y_test.shape"
   ]
  },
  {
   "cell_type": "code",
   "execution_count": null,
   "id": "4df9e98f-5388-4ecf-a52c-990b85f92651",
   "metadata": {},
   "outputs": [],
   "source": [
    "###### veriyi test train diye ayırdık şimdi doğrusal regresyon modelini kurucaz."
   ]
  },
  {
   "cell_type": "markdown",
   "id": "1e2e8bc1-8b54-49b8-8f96-67c5f82eca20",
   "metadata": {},
   "source": [
    "###Statsmodels ile model oluşturma\n"
   ]
  },
  {
   "cell_type": "code",
   "execution_count": 49,
   "id": "03e7e31c-55f5-4dbd-a929-336c1eb94f3e",
   "metadata": {},
   "outputs": [],
   "source": [
    "###statsmodel ile\n",
    "import statsmodels.api as sm\n",
    "lm = sm.OLS(y_train, X_train)\n",
    "model = lm.fit()\n",
    "model.summary()\n",
    "#model.summary().tables[1]"
   ]
  },
  {
   "cell_type": "markdown",
   "id": "06f38557-a02d-4923-917d-692f555daf0c",
   "metadata": {},
   "source": [
    "##scikit-learn ile model oluşturma"
   ]
  },
  {
   "cell_type": "code",
   "execution_count": 61,
   "id": "de3767ea-e907-4f89-a05e-f01a08aa5ea3",
   "metadata": {},
   "outputs": [
    {
     "data": {
      "text/plain": [
       "array([0.04472952, 0.18919505, 0.00276111])"
      ]
     },
     "execution_count": 61,
     "metadata": {},
     "output_type": "execute_result"
    }
   ],
   "source": [
    "from sklearn.linear_model import LinearRegression\n",
    "lm = LinearRegression()\n",
    "model = lm.fit(X_train, y_train)\n",
    "model.intercept_\n",
    "model.coef_"
   ]
  },
  {
   "cell_type": "markdown",
   "id": "7ee85397-ec7c-4f06-b08a-81b728536c85",
   "metadata": {},
   "source": [
    "####tahmin"
   ]
  },
  {
   "cell_type": "markdown",
   "id": "b3d02061-0dbf-497c-ae2d-23860f4c103b",
   "metadata": {},
   "source": [
    "Model denklemi:\r\n",
    "Sales = 2.97 + TV0.04 + radio0.18 + newspaper*0.02\r\n",
    "\r\n",
    "Örneğin 30 birim TV harcaması, 10 birim radio harcamasi, 40 birimde gazete harcaması olduğunda satışların tahmini değeri ne olur?\r\n"
   ]
  },
  {
   "cell_type": "code",
   "execution_count": 69,
   "id": "28800d8e-c427-40fe-8e14-3858a39573c5",
   "metadata": {},
   "outputs": [
    {
     "data": {
      "text/plain": [
       "array([6.32334798])"
      ]
     },
     "execution_count": 69,
     "metadata": {},
     "output_type": "execute_result"
    }
   ],
   "source": [
    "from warnings import filterwarnings\n",
    "filterwarnings('ignore')\n",
    "yeni_veri = [[30], [10],[40]]\n",
    "yeni_veri = pd.DataFrame(yeni_veri).T\n",
    "model.predict(yeni_veri)"
   ]
  },
  {
   "cell_type": "code",
   "execution_count": 78,
   "id": "c0c1f728-2b72-42de-ba09-ed5d9e714a14",
   "metadata": {},
   "outputs": [
    {
     "data": {
      "text/plain": [
       "1.644727765644337"
      ]
     },
     "execution_count": 78,
     "metadata": {},
     "output_type": "execute_result"
    }
   ],
   "source": [
    "import numpy as np\n",
    "from sklearn.metrics import mean_squared_error\n",
    "rmse = np.sqrt(mean_squared_error(y_train, model.predict(X_train))) ### train tahmin başarısına bakıcam\n",
    "rmse"
   ]
  },
  {
   "cell_type": "code",
   "execution_count": 82,
   "id": "f4716cd8-7b0d-4dba-a051-aaabe17119f0",
   "metadata": {},
   "outputs": [
    {
     "data": {
      "text/plain": [
       "1.7815996615334502"
      ]
     },
     "execution_count": 82,
     "metadata": {},
     "output_type": "execute_result"
    }
   ],
   "source": [
    "rmse = np.sqrt(mean_squared_error(y_test, model.predict(X_test))) ## test tahmin başarısına bakıcam\n",
    "rmse"
   ]
  },
  {
   "cell_type": "code",
   "execution_count": 84,
   "id": "6f8ce493-19c6-4ea4-8024-9ed9130265d4",
   "metadata": {},
   "outputs": [],
   "source": [
    "## Model Tuning / Model Doğrulama"
   ]
  },
  {
   "cell_type": "code",
   "execution_count": 86,
   "id": "cd3870ca-a854-4b76-b2d6-24b5468708b4",
   "metadata": {},
   "outputs": [],
   "source": [
    "X = df.drop('sales', axis=1)\n",
    "y = df[\"sales\"]\n",
    "X_train, X_test, y_train, y_test = train_test_split(X, y, \n",
    "                                                    test_size=0.20, \n",
    "                                                    random_state=144)\n",
    "lm = LinearRegression() \n",
    "model = lm.fit(X_train, y_train)"
   ]
  },
  {
   "cell_type": "code",
   "execution_count": 88,
   "id": "b7230617-fea8-41e3-b8b3-ffa7391c1c25",
   "metadata": {},
   "outputs": [
    {
     "data": {
      "text/plain": [
       "1.6748559274650712"
      ]
     },
     "execution_count": 88,
     "metadata": {},
     "output_type": "execute_result"
    }
   ],
   "source": [
    "###mesela random statei değiştirerek bu değerlerin nasıl değiştiğine bakabiliriz\n",
    "np.sqrt(mean_squared_error(y_train, model.predict(X_train)))\n",
    "np.sqrt(mean_squared_error(y_test, model.predict(X_test)))\n",
    "model.score(X_train, y_train)"
   ]
  },
  {
   "cell_type": "code",
   "execution_count": 98,
   "id": "831f5f06-6524-47b0-9bd1-f9a0e8217f2a",
   "metadata": {},
   "outputs": [
    {
     "data": {
      "text/plain": [
       "0.8853562237979616"
      ]
     },
     "execution_count": 98,
     "metadata": {},
     "output_type": "execute_result"
    }
   ],
   "source": [
    "## k cross validation yöntemi denicez\n",
    "## predict edilince gelen değerlerin doğruluğunu test edicez\n",
    "## cv burda k değeridir\n",
    "cross_val_score(model, X, y, cv = 10, scoring = \"r2\").mean() ## bu şuan tüm veri seti için"
   ]
  },
  {
   "cell_type": "code",
   "execution_count": 100,
   "id": "51994bfe-d50f-40f0-9d0f-6a54b7d9a496",
   "metadata": {},
   "outputs": [
    {
     "data": {
      "text/plain": [
       "0.8733783298422942"
      ]
     },
     "execution_count": 100,
     "metadata": {},
     "output_type": "execute_result"
    }
   ],
   "source": [
    "cross_val_score(model, X_train, y_train, cv = 10, scoring = \"r2\").mean() "
   ]
  },
  {
   "cell_type": "code",
   "execution_count": 102,
   "id": "9bece5d5-4bf2-4475-92a5-7bdafd6c6e88",
   "metadata": {},
   "outputs": [
    {
     "data": {
      "text/plain": [
       "1.6649345607872932"
      ]
     },
     "execution_count": 102,
     "metadata": {},
     "output_type": "execute_result"
    }
   ],
   "source": [
    "np.sqrt(-cross_val_score(model, \n",
    "                X_train, \n",
    "                y_train, \n",
    "                cv = 10, \n",
    "                scoring = \"neg_mean_squared_error\")).mean()"
   ]
  },
  {
   "cell_type": "code",
   "execution_count": 104,
   "id": "96841d2f-0065-447c-af23-ce3bd71c55d4",
   "metadata": {},
   "outputs": [
    {
     "data": {
      "text/plain": [
       "1.7399924960346644"
      ]
     },
     "execution_count": 104,
     "metadata": {},
     "output_type": "execute_result"
    }
   ],
   "source": [
    "np.sqrt(-cross_val_score(model, \n",
    "                X_test, \n",
    "                y_test, \n",
    "                cv = 10, \n",
    "                scoring = \"neg_mean_squared_error\")).mean()\n",
    "###neg_mean_squared_error\" parametresi, ortalama karesel hata (MSE) metriğinin negatif versiyonunu kullanır. \n",
    "##Negatif olarak hesaplanmasının sebebi, cross_val_score fonksiyonunun varsayılan olarak skorları maximizasyon olarak görmesidir.\n",
    "##Bu nedenle, minimize edilmesi gereken bir hata metriği olan MSE'yi negatif yaparak, \n",
    "##cross_val_score'un daha düşük hataları tercih etmesi sağlanır.\n",
    "##"
   ]
  },
  {
   "cell_type": "code",
   "execution_count": null,
   "id": "83f1bf3b-9e9d-4fb3-92ea-432349d1ccb3",
   "metadata": {},
   "outputs": [],
   "source": []
  }
 ],
 "metadata": {
  "kernelspec": {
   "display_name": "Python 3 (ipykernel)",
   "language": "python",
   "name": "python3"
  },
  "language_info": {
   "codemirror_mode": {
    "name": "ipython",
    "version": 3
   },
   "file_extension": ".py",
   "mimetype": "text/x-python",
   "name": "python",
   "nbconvert_exporter": "python",
   "pygments_lexer": "ipython3",
   "version": "3.12.4"
  }
 },
 "nbformat": 4,
 "nbformat_minor": 5
}
